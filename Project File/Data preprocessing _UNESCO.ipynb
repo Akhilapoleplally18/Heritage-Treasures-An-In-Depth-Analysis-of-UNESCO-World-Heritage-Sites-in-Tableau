{
  "cells": [
    {
      "cell_type": "code",
      "execution_count": 6,
      "metadata": {},
      "outputs": [
        {
          "name": "stdout",
          "output_type": "stream",
          "text": [
            "Requirement already satisfied: xlrd in c:\\users\\akhil\\anaconda3\\lib\\site-packages (2.0.2)\n",
            "Note: you may need to restart the kernel to use updated packages.\n",
            "========== [MODULE 1: Dataset Overview] ==========\n",
            "\n",
            " Dataset Loaded Successfully!\n",
            " Total Records   : 1121\n",
            " Total Features  : 22\n",
            "\n",
            "Column Names:\n",
            "--------------------------------------------------\n",
            "• category\n",
            "• states_name_en\n",
            "• region_en\n",
            "• unique_number\n",
            "• id_no\n",
            "• rev_bis\n",
            "• name_en\n",
            "• short_description_en\n",
            "• justification_en\n",
            "• date_inscribed\n",
            "• secondary_dates\n",
            "• danger\n",
            "• date_end\n",
            "• danger_list\n",
            "• longitude\n",
            "• latitude\n",
            "• area_hectares\n",
            "• criteria_txt\n",
            "• category_short\n",
            "• iso_code\n",
            "• udnp_code\n",
            "• transboundary\n",
            "--------------------------------------------------\n",
            "\n",
            "Sample Records (Top 5 Rows):\n",
            "| category   | states_name_en   | region_en                |   unique_number |   id_no | rev_bis   | name_en                                                             | short_description_en                                                                                                                                                                                                                                                                                                                                                                                                                                                                                                                                                                                                                                                                                                                                                                                                                       | justification_en                                                                                                                                                                                                                                                                                                                                                                                        |   date_inscribed |   secondary_dates |   danger |   date_end | danger_list   |   longitude |   latitude |   area_hectares | criteria_txt         | category_short   | iso_code   | udnp_code   |   transboundary |\n",
            "|:-----------|:-----------------|:-------------------------|----------------:|--------:|:----------|:--------------------------------------------------------------------|:-------------------------------------------------------------------------------------------------------------------------------------------------------------------------------------------------------------------------------------------------------------------------------------------------------------------------------------------------------------------------------------------------------------------------------------------------------------------------------------------------------------------------------------------------------------------------------------------------------------------------------------------------------------------------------------------------------------------------------------------------------------------------------------------------------------------------------------------|:--------------------------------------------------------------------------------------------------------------------------------------------------------------------------------------------------------------------------------------------------------------------------------------------------------------------------------------------------------------------------------------------------------|-----------------:|------------------:|---------:|-----------:|:--------------|------------:|-----------:|----------------:|:---------------------|:-----------------|:-----------|:------------|----------------:|\n",
            "| Cultural   | Afghanistan      | Asia and the Pacific     |             230 |     208 | Rev       | Cultural Landscape and Archaeological Remains of the Bamiyan Valley | The cultural landscape and archaeological remains of the Bamiyan Valley represent the artistic and religious developments which from the 1st to the 13th centuries characterized ancient Bakhtria, integrating various cultural influences into the Gandhara school of Buddhist art. The area contains numerous Buddhist monastic ensembles and sanctuaries, as well as fortified edifices from the Islamic period. The site is also testimony to the tragic destruction by the Taliban of the two standing Buddha statues, which shook the world in March 2001.                                                                                                                                                                                                                                                                           | <em>Criterion (i):</em> The Buddha statues and the cave art in Bamiyan Valley are an outstanding representation of the Gandharan school in Buddhist art in the Central Asian region.                                                                                                                                                                                                                    |             2003 |               nan |        1 |        nan | Y 2003        |    67.8252  |    34.8469 |         158.927 | (i)(ii)(iii)(iv)(vi) | C                | af         | afg         |               0 |\n",
            "|            |                  |                          |                 |         |           |                                                                     |                                                                                                                                                                                                                                                                                                                                                                                                                                                                                                                                                                                                                                                                                                                                                                                                                                            |  <em>Criterion (ii)</em> : The artistic and architectural remains of Bamiyan Valley, and an important Buddhist centre on the Silk Road, are an exceptional testimony to the interchange of Indian, Hellenistic, Roman, Sasanian influences as the basis for the development of a particular artistic expression in the Gandharan school. To this can be added the Islamic influence in a later period.  |                  |                   |          |            |               |             |            |                 |                      |                  |            |             |                 |\n",
            "|            |                  |                          |                 |         |           |                                                                     |                                                                                                                                                                                                                                                                                                                                                                                                                                                                                                                                                                                                                                                                                                                                                                                                                                            |  <em>Criterion (iii):</em> The Bamiyan Valley bears an exceptional testimony to a cultural tradition in the Central Asian region, which has disappeared.                                                                                                                                                                                                                                                |                  |                   |          |            |               |             |            |                 |                      |                  |            |             |                 |\n",
            "|            |                  |                          |                 |         |           |                                                                     |                                                                                                                                                                                                                                                                                                                                                                                                                                                                                                                                                                                                                                                                                                                                                                                                                                            |  <em>Criterion (iv):</em> The Bamiyan Valley is an outstanding example of a cultural landscape which illustrates a significant period in Buddhism.                                                                                                                                                                                                                                                      |                  |                   |          |            |               |             |            |                 |                      |                  |            |             |                 |\n",
            "|            |                  |                          |                 |         |           |                                                                     |                                                                                                                                                                                                                                                                                                                                                                                                                                                                                                                                                                                                                                                                                                                                                                                                                                            |  <em>Criterion (vi):</em> The Bamiyan Valley is the most monumental expression of the western Buddhism. It was an important centre of pilgrimage over many centuries. Due to their symbolic values, the monuments have suffered at different times of their existence, including the deliberate destruction in 2001, which shook the whole world.                                                       |                  |                   |          |            |               |             |            |                 |                      |                  |            |             |                 |\n",
            "| Cultural   | Afghanistan      | Asia and the Pacific     |             234 |     211 | Rev       | Minaret and Archaeological Remains of Jam                           | The 65m-tall Minaret of Jam is a graceful, soaring structure, dating back to the 12th century. Covered in elaborate brickwork with a blue tile inscription at the top, it is noteworthy for the quality of its architecture and decoration, which represent the culmination of an architectural and artistic tradition in this region. Its impact is heightened by its dramatic setting, a deep river valley between towering mountains in the heart of the Ghur province.                                                                                                                                                                                                                                                                                                                                                                 | <em>Criterion (ii):</em> The innovative architecture and decoration of the Minaret of Jam played a significant role in the development of the arts and architecture of the Indian sub-continent and beyond.                                                                                                                                                                                             |             2002 |               nan |        1 |        nan | Y 2002        |    64.5159  |    34.3964 |          70     | (ii)(iii)(iv)        | C                | af         | afg         |               0 |\n",
            "|            |                  |                          |                 |         |           |                                                                     |                                                                                                                                                                                                                                                                                                                                                                                                                                                                                                                                                                                                                                                                                                                                                                                                                                            |  <em>Criterion (iii): </em>The Minaret of Jam and its associated archaeological remains constitute exceptional testimony to the power and quality of the Ghurid civilization that dominated its region in the 12th and 13th centuries.                                                                                                                                                                  |                  |                   |          |            |               |             |            |                 |                      |                  |            |             |                 |\n",
            "|            |                  |                          |                 |         |           |                                                                     |                                                                                                                                                                                                                                                                                                                                                                                                                                                                                                                                                                                                                                                                                                                                                                                                                                            |  <em>Criterion (iv): </em>The Minaret of Jam is an outstanding example of Islamic architecture and ornamentation in this region and played a significant role in their further dissemination.                                                                                                                                                                                                           |                  |                   |          |            |               |             |            |                 |                      |                  |            |             |                 |\n",
            "| Cultural   | Albania          | Europe and North America |            1590 |     569 | Bis       | Historic Centres of Berat and Gjirokastra                           | Berat and Gjirokastra are inscribed as rare examples of an architectural character typical of the Ottoman period. Located in central Albania, Berat bears witness to the coexistence of various religious and cultural communities down the centuries. It features a castle, locally known as the Kala, most of which was built in the 13th century, although its origins date back to the 4th century BC. The citadel area numbers many Byzantine churches, mainly from the 13th century, as well as several mosques built under the Ottoman era which&nbsp;began&nbsp;in 1417. Gjirokastra, in the Drinos river valley in southern Albania, features a series of outstanding two-story&nbsp;houses which were developed in the 17th century. The town also retains a bazaar, an 18th-century mosque and two churches of the same period. | nan                                                                                                                                                                                                                                                                                                                                                                                                     |             2005 |              2008 |        0 |        nan | nan           |    20.1333  |    40.0694 |          58.9   | (iii)(iv)            | C                | al         | alb         |               0 |\n",
            "| Cultural   | Albania          | Europe and North America |            1563 |     570 | ter       | Butrint                                                             | Inhabited since prehistoric times, Butrint has been the site of a Greek colony, a Roman city and a bishopric. Following a period of prosperity under Byzantine administration, then a brief occupation by the Venetians, the city was abandoned in the late Middle Ages after marshes formed in the area. The present archaeological site is a repository of ruins representing each period in the city&rsquo;s development.                                                                                                                                                                                                                                                                                                                                                                                                               | nan                                                                                                                                                                                                                                                                                                                                                                                                     |             1992 |              1999 |        0 |       2005 | P 1997-2005   |    20.0261  |    39.7511 |         nan     | (iii)                | C                | al         | alb         |               0 |\n",
            "| Cultural   | Algeria          | Arab States              |             111 |     102 | nan       | Al Qal'a of Beni Hammad                                             | In a mountainous site of extraordinary beauty, the ruins of the first capital of the Hammadid emirs, founded in 1007 and demolished in 1152, provide an authentic picture of a fortified Muslim city. The mosque, whose prayer room has 13 aisles with eight bays, is one of the largest in Algeria.                                                                                                                                                                                                                                                                                                                                                                                                                                                                                                                                       | nan                                                                                                                                                                                                                                                                                                                                                                                                     |             1980 |               nan |        0 |        nan | nan           |     4.78684 |    35.8184 |         150     | (iii)                | C                | dz         | dza         |               0 |\n"
          ]
        }
      ],
      "source": [
        "%pip install xlrd\n",
        "# Loading the Dataset & Inspect Structure\n",
        "import pandas as pd\n",
        "\n",
        "# Load the Excel file (use read_excel instead of read_csv)\n",
        "df = pd.read_excel('C:/Users/akhil/Downloads/whc-sites-2019 - Copy.xls')\n",
        "\n",
        "print(\"========== [MODULE 1: Dataset Overview] ==========\\n\")\n",
        "print(\" Dataset Loaded Successfully!\")\n",
        "print(f\" Total Records   : {df.shape[0]}\")\n",
        "print(f\" Total Features  : {df.shape[1]}\\n\")\n",
        "\n",
        "print(\"Column Names:\")\n",
        "print(\"-\" * 50)\n",
        "for col in df.columns:\n",
        "    print(f\"• {col}\")\n",
        "print(\"-\" * 50)\n",
        "\n",
        "print(\"\\nSample Records (Top 5 Rows):\")\n",
        "print(df.head().to_markdown(index=False))\n"
      ]
    },
    {
      "cell_type": "code",
      "execution_count": 7,
      "metadata": {
        "colab": {
          "base_uri": "https://localhost:8080/"
        },
        "id": "uuk3cHlQ-uGu",
        "outputId": "498f1dd8-fffb-4c8e-bb45-172ba9646e17"
      },
      "outputs": [
        {
          "name": "stdout",
          "output_type": "stream",
          "text": [
            "\n",
            "========== [MODULE 2: Duplicate Removal] ==========\n",
            " Rows Before Duplicate Removal : 1121\n",
            " Duplicates Removed            : 0\n",
            " Rows After Duplicate Removal  : 1121\n"
          ]
        }
      ],
      "source": [
        "# Removing Duplicates\n",
        "before = df.shape[0]\n",
        "df = df.drop_duplicates()\n",
        "after = df.shape[0]\n",
        "\n",
        "print(\"\\n========== [MODULE 2: Duplicate Removal] ==========\")\n",
        "print(f\" Rows Before Duplicate Removal : {before}\")\n",
        "print(f\" Duplicates Removed            : {before - after}\")\n",
        "print(f\" Rows After Duplicate Removal  : {after}\")\n"
      ]
    },
    {
      "cell_type": "code",
      "execution_count": 8,
      "metadata": {
        "colab": {
          "base_uri": "https://localhost:8080/"
        },
        "id": "PqtTT5my-wIm",
        "outputId": "945d7d93-cab4-4495-c991-d5982ac66f6d"
      },
      "outputs": [
        {
          "name": "stdout",
          "output_type": "stream",
          "text": [
            "\n",
            "========== [MODULE 3: Missing Value Check] ==========\n",
            "❗ Missing Values Found:\n",
            "\n",
            "|                  |   Missing Count |\n",
            "|:-----------------|----------------:|\n",
            "| rev_bis          |             854 |\n",
            "| justification_en |             787 |\n",
            "| secondary_dates  |            1034 |\n",
            "| date_end         |            1082 |\n",
            "| danger_list      |            1033 |\n",
            "| area_hectares    |              20 |\n",
            "| iso_code         |               1 |\n",
            "| udnp_code        |               1 |\n"
          ]
        }
      ],
      "source": [
        "# Checking Missing Values\n",
        "missing = df.isnull().sum()\n",
        "missing = missing[missing > 0]\n",
        "\n",
        "print(\"\\n========== [MODULE 3: Missing Value Check] ==========\")\n",
        "if not missing.empty:\n",
        "    print(\"❗ Missing Values Found:\\n\")\n",
        "    print(missing.to_frame(name='Missing Count').to_markdown())\n",
        "else:\n",
        "    print(\"✅ No Missing Values Detected!\")"
      ]
    },
    {
      "cell_type": "code",
      "execution_count": 12,
      "metadata": {},
      "outputs": [
        {
          "name": "stdout",
          "output_type": "stream",
          "text": [
            "\n",
            "========== [MODULE 1: Dataset Overview] ==========\n",
            "✅ Dataset Loaded Successfully!\n",
            "🔢 Total Records: 1121\n",
            "📌 Total Features: 22\n",
            "\n",
            "📂 Columns List:\n",
            "['category', 'states_name_en', 'region_en', 'unique_number', 'id_no', 'rev_bis', 'name_en', 'short_description_en', 'justification_en', 'date_inscribed', 'secondary_dates', 'danger', 'date_end', 'danger_list', 'longitude', 'latitude', 'area_hectares', 'criteria_txt', 'category_short', 'iso_code', 'udnp_code', 'transboundary']\n",
            "\n",
            "========== [MODULE 2: Numeric Column Summary] ==========\n",
            "🔍 Numeric Columns Found: ['unique_number', 'id_no', 'date_inscribed', 'danger', 'date_end', 'longitude', 'latitude', 'area_hectares', 'transboundary']\n",
            "                 count           mean           std          min          25%  \\\n",
            "unique_number   1121.0    1170.794826  6.666083e+02     4.000000   638.000000   \n",
            "id_no           1121.0     803.338983  4.564630e+02     1.000000   405.000000   \n",
            "date_inscribed  1121.0    1997.819804  1.165530e+01  1978.000000  1987.000000   \n",
            "danger          1121.0       0.047279  2.123302e-01     0.000000     0.000000   \n",
            "date_end          39.0    2006.923077  7.808176e+00  1988.000000  2003.500000   \n",
            "longitude       1121.0      20.387607  6.308273e+01  -179.715278    -3.328986   \n",
            "latitude        1121.0      28.948467  2.369288e+01   -54.594722    17.483330   \n",
            "area_hectares   1101.0  336692.556052  2.920137e+06     0.000000    11.400000   \n",
            "transboundary   1121.0       0.034790  1.833302e-01     0.000000     0.000000   \n",
            "\n",
            "                        50%           75%           max  \n",
            "unique_number   1123.000000   1765.000000  2.333000e+03  \n",
            "id_no            805.000000   1196.000000  1.610000e+03  \n",
            "date_inscribed  1998.000000   2007.000000  2.019000e+03  \n",
            "danger             0.000000      0.000000  1.000000e+00  \n",
            "date_end        2006.000000   2012.500000  2.019000e+03  \n",
            "longitude         16.383333     50.512778  1.788345e+02  \n",
            "latitude          36.100833     45.767220  7.118889e+01  \n",
            "area_hectares    187.000000  13551.552000  6.729690e+07  \n",
            "transboundary      0.000000      0.000000  1.000000e+00  \n",
            "\n",
            "========== [MODULE 3: Outlier Detection] ==========\n",
            "🧹 Outliers to be removed: 0 rows\n",
            "✅ Remaining Rows After Cleaning: 1121\n"
          ]
        }
      ],
      "source": [
        "# ======== [MODULE 0: Setup] ========\n",
        "import pandas as pd\n",
        "import os\n",
        "import subprocess\n",
        "\n",
        "# Optional: Install xlrd if not already installed\n",
        "try:\n",
        "    import xlrd\n",
        "except ImportError:\n",
        "    subprocess.check_call([\"pip\", \"install\", \"xlrd\"])\n",
        "    import xlrd\n",
        "\n",
        "# ======== [MODULE 1: Load Dataset] ========\n",
        "file_path = \"C:/Users/akhil/Downloads/whc-sites-2019 - Copy.xls\"\n",
        "df = pd.read_excel(file_path)\n",
        "\n",
        "print(\"\\n========== [MODULE 1: Dataset Overview] ==========\")\n",
        "print(f\"✅ Dataset Loaded Successfully!\")\n",
        "print(f\"🔢 Total Records: {df.shape[0]}\")\n",
        "print(f\"📌 Total Features: {df.shape[1]}\")\n",
        "print(\"\\n📂 Columns List:\")\n",
        "print(df.columns.to_list())\n",
        "\n",
        "# ======== [MODULE 2: Detect Numeric Columns] ========\n",
        "numeric_cols = df.select_dtypes(include='number').columns.tolist()\n",
        "print(\"\\n========== [MODULE 2: Numeric Column Summary] ==========\")\n",
        "print(f\"🔍 Numeric Columns Found: {numeric_cols}\")\n",
        "print(df[numeric_cols].describe().T)\n",
        "\n",
        "# ======== [MODULE 3: Outlier Detection & Removal] ========\n",
        "print(\"\\n========== [MODULE 3: Outlier Detection] ==========\")\n",
        "\n",
        "# Example outlier rules (customize based on actual data inspection)\n",
        "outlier_conditions = (\n",
        "    (df['date_inscribed'] > 2025) |\n",
        "    (df['longitude'] < -180) | (df['longitude'] > 180) |\n",
        "    (df['latitude'] < -90) | (df['latitude'] > 90)\n",
        ")\n",
        "\n",
        "print(f\"🧹 Outliers to be removed: {outlier_conditions.sum()} rows\")\n",
        "\n",
        "# Remove outliers\n",
        "df_clean = df[~outlier_conditions]\n",
        "\n",
        "print(f\"✅ Remaining Rows After Cleaning: {df_clean.shape[0]}\")\n",
        "\n",
        "# ======== [MODULE 4: Save Cleaned Data (Optional)] ========\n",
        "# df_clean.to_excel(\"cleaned_whc_sites.xlsx\", index=False)\n"
      ]
    },
    {
      "cell_type": "code",
      "execution_count": 13,
      "metadata": {},
      "outputs": [
        {
          "name": "stdout",
          "output_type": "stream",
          "text": [
            "\n",
            "========== [MODULE 3: Outlier Detection] ==========\n",
            "❌ Outliers Detected: 0 rows\n",
            "✅ Remaining Rows After Cleaning: 1121\n"
          ]
        }
      ],
      "source": [
        "# MODULE 3: Detect Outliers (based on valid numeric columns)\n",
        "print(\"\\n========== [MODULE 3: Outlier Detection] ==========\")\n",
        "\n",
        "# Rename fields to match dataset\n",
        "outlier_conditions = (\n",
        "    (df['date_inscribed'] > 2025) |\n",
        "    (df['latitude'] < -90) | (df['latitude'] > 90) |\n",
        "    (df['longitude'] < -180) | (df['longitude'] > 180)\n",
        ")\n",
        "\n",
        "print(f\"❌ Outliers Detected: {outlier_conditions.sum()} rows\")\n",
        "\n",
        "# Remove outliers\n",
        "df_clean = df[~outlier_conditions]\n",
        "\n",
        "print(f\"✅ Remaining Rows After Cleaning: {df_clean.shape[0]}\")\n"
      ]
    },
    {
      "cell_type": "code",
      "execution_count": 15,
      "metadata": {},
      "outputs": [
        {
          "name": "stdout",
          "output_type": "stream",
          "text": [
            "\n",
            "========== [MODULE 5: Feature Engineering] ==========\n",
            "🆕 New Features Added:\n",
            "   • Age of Site (Years)\n",
            "   • Age Group\n",
            "   • Hemisphere\n",
            "\n",
            "📊 Sample of Engineered Features:\n",
            "\n",
            "| name_en                                                             |   date_inscribed |   Age of Site (Years) | Age Group   |   latitude | Hemisphere   |\n",
            "|:--------------------------------------------------------------------|-----------------:|----------------------:|:------------|-----------:|:-------------|\n",
            "| Cultural Landscape and Archaeological Remains of the Bamiyan Valley |             2003 |                    22 | 0-25        |    34.8469 | Northern     |\n",
            "| Minaret and Archaeological Remains of Jam                           |             2002 |                    23 | 0-25        |    34.3964 | Northern     |\n",
            "| Historic Centres of Berat and Gjirokastra                           |             2005 |                    20 | 0-25        |    40.0694 | Northern     |\n",
            "| Butrint                                                             |             1992 |                    33 | 26-50       |    39.7511 | Northern     |\n",
            "| Al Qal'a of Beni Hammad                                             |             1980 |                    45 | 26-50       |    35.8184 | Northern     |\n"
          ]
        }
      ],
      "source": [
        "# ======== [MODULE 5: Feature Engineering] ========\n",
        "# 1. Age of Site (based on inscription year)\n",
        "df['Age of Site (Years)'] = 2025 - df['date_inscribed']\n",
        "\n",
        "# 2. Age Group\n",
        "df['Age Group'] = pd.cut(df['Age of Site (Years)'],\n",
        "                         bins=[0, 25, 50, 100, 200, 1000],\n",
        "                         labels=['0-25', '26-50', '51-100', '101-200', '200+'])\n",
        "\n",
        "# 3. Hemisphere based on latitude\n",
        "df['Hemisphere'] = df['latitude'].apply(lambda x: 'Northern' if x >= 0 else 'Southern')\n",
        "\n",
        "print(\"\\n========== [MODULE 5: Feature Engineering] ==========\")\n",
        "print(\"🆕 New Features Added:\")\n",
        "print(\"   • Age of Site (Years)\")\n",
        "print(\"   • Age Group\")\n",
        "print(\"   • Hemisphere\\n\")\n",
        "\n",
        "print(\"📊 Sample of Engineered Features:\\n\")\n",
        "print(df[['name_en', 'date_inscribed', 'Age of Site (Years)',\n",
        "          'Age Group', 'latitude', 'Hemisphere']].head().to_markdown(index=False))\n"
      ]
    },
    {
      "cell_type": "code",
      "execution_count": 16,
      "metadata": {
        "colab": {
          "base_uri": "https://localhost:8080/"
        },
        "id": "8F7uVFVVE9DQ",
        "outputId": "b86c069c-9349-48ba-9a7e-cb7af56b933b"
      },
      "outputs": [
        {
          "name": "stdout",
          "output_type": "stream",
          "text": [
            "\n",
            "========== [MODULE 6: Save Cleaned Dataset] ==========\n",
            "💾 Cleaned dataset successfully saved as Processed_Dataset.csv\n"
          ]
        }
      ],
      "source": [
        "# Saving Cleaned Data\n",
        "df.to_csv(\"Cleaned_Dataset.csv\", index=False)\n",
        "\n",
        "print(\"\\n========== [MODULE 6: Save Cleaned Dataset] ==========\")\n",
        "print(\"💾 Cleaned dataset successfully saved as Processed_Dataset.csv\")"
      ]
    }
  ],
  "metadata": {
    "colab": {
      "provenance": []
    },
    "kernelspec": {
      "display_name": "base",
      "language": "python",
      "name": "python3"
    },
    "language_info": {
      "codemirror_mode": {
        "name": "ipython",
        "version": 3
      },
      "file_extension": ".py",
      "mimetype": "text/x-python",
      "name": "python",
      "nbconvert_exporter": "python",
      "pygments_lexer": "ipython3",
      "version": "3.12.4"
    }
  },
  "nbformat": 4,
  "nbformat_minor": 0
}
